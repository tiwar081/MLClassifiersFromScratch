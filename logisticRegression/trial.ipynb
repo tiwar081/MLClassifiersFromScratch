{
 "cells": [
  {
   "cell_type": "code",
   "execution_count": 1,
   "metadata": {},
   "outputs": [],
   "source": [
    "import numpy as np\n",
    "import matplotlib.pyplot as plt\n",
    "from scipy import io\n",
    "import scipy.linalg as la\n",
    "import pandas as pd\n",
    "import random as rand"
   ]
  },
  {
   "cell_type": "code",
   "execution_count": 2,
   "metadata": {},
   "outputs": [],
   "source": [
    "def mean_and_sd(dat):\n",
    "    \"\"\"\n",
    "    Takes a nxd matrix and returns the mean and stddev of each column feature.\n",
    "    \"\"\"\n",
    "    return np.mean(np.array(dat), axis=0), np.std(np.array(dat), axis=0)\n",
    "\n",
    "def normalize(dat, mu, sig):\n",
    "    \"\"\"\n",
    "    Takes a nxd pandas df and returns a normalized version.\n",
    "    \"\"\"\n",
    "    return dat.apply(lambda row: (row - mu)/sig, axis=1)"
   ]
  },
  {
   "cell_type": "code",
   "execution_count": 3,
   "metadata": {},
   "outputs": [],
   "source": [
    "dat = io.loadmat('data.mat')\n",
    "training = pd.DataFrame(dat[\"X\"], columns=dat[\"description\"])\n",
    "mu, sig = mean_and_sd(training)\n",
    "training = normalize(training, mu, sig)\n",
    "labels = pd.DataFrame(dat[\"y\"])"
   ]
  },
  {
   "cell_type": "code",
   "execution_count": 15,
   "metadata": {},
   "outputs": [
    {
     "data": {
      "text/plain": [
       "array([0.94784644, 0.88079708, 0.80218389, 0.52497919])"
      ]
     },
     "execution_count": 15,
     "metadata": {},
     "output_type": "execute_result"
    }
   ],
   "source": [
    "X = np.array([[0.2, 3.1, 1], [1, 3, 1], [-0.2, 1.2, 1], [1, 1.1, 1]]) # Const\n",
    "y = np.array([1, 1, 0, 0]).T # Const\n",
    "w = np.array([-1, 1, 0]).T # Variable\n",
    "\n",
    "def logistic(x):\n",
    "    return 1/(1+np.exp(-x))"
   ]
  },
  {
   "cell_type": "code",
   "execution_count": 22,
   "metadata": {},
   "outputs": [],
   "source": [
    "s = logistic(np.matmul(X, w)) # Variable\n",
    "\n",
    "def update_w_newton(X, y, s, w):\n",
    "    omega = np.diag((1 - s)*s)\n",
    "    return w + np.linalg.solve(X.T @ omega @ X, X.T @ (y-s))\n",
    "\n",
    "w1 = update_w_newton(X, y, s, w)\n",
    "s1 = logistic(X @ w1)\n",
    "w2 = update_w_newton(X, y, s1, w1)"
   ]
  },
  {
   "cell_type": "code",
   "execution_count": 25,
   "metadata": {},
   "outputs": [
    {
     "data": {
      "text/plain": [
       "array([ 1.36602464,  4.15753654, -9.19961627])"
      ]
     },
     "execution_count": 25,
     "metadata": {},
     "output_type": "execute_result"
    }
   ],
   "source": [
    "w2"
   ]
  },
  {
   "cell_type": "code",
   "execution_count": null,
   "metadata": {},
   "outputs": [],
   "source": []
  }
 ],
 "metadata": {
  "interpreter": {
   "hash": "910d76c397748906a74014de6670a4653ebeba197cfc38f74f46a5469222ae60"
  },
  "kernelspec": {
   "display_name": "Python 3.12.2 ('CS189')",
   "language": "python",
   "name": "python3"
  },
  "language_info": {
   "codemirror_mode": {
    "name": "ipython",
    "version": 3
   },
   "file_extension": ".py",
   "mimetype": "text/x-python",
   "name": "python",
   "nbconvert_exporter": "python",
   "pygments_lexer": "ipython3",
   "version": "3.12.2"
  },
  "orig_nbformat": 4
 },
 "nbformat": 4,
 "nbformat_minor": 2
}
